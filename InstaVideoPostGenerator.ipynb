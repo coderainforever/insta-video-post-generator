{
  "nbformat": 4,
  "nbformat_minor": 0,
  "metadata": {
    "colab": {
      "provenance": []
    },
    "kernelspec": {
      "name": "python3",
      "display_name": "Python 3"
    },
    "language_info": {
      "name": "python"
    }
  },
  "cells": [
    {
      "cell_type": "markdown",
      "source": [
        "## Installing Dependencies"
      ],
      "metadata": {
        "id": "ctMGhrz6GDuL"
      }
    },
    {
      "cell_type": "code",
      "source": [
        "!pip install gTTS\n",
        "!pip install pydub\n",
        "!pip install pandas\n",
        "!pip install moviepy\n",
        "!pip install Pillow\n",
        "!pip install imageio==2.4.1\n",
        "!pip install --upgrade imageio-ffmpeg"
      ],
      "metadata": {
        "colab": {
          "base_uri": "https://localhost:8080/",
          "height": 1000
        },
        "id": "fn3lazVYVjSz",
        "outputId": "fc45c35c-b2fe-4930-8f8f-b7b9bea86816"
      },
      "execution_count": 1,
      "outputs": [
        {
          "output_type": "stream",
          "name": "stdout",
          "text": [
            "Looking in indexes: https://pypi.org/simple, https://us-python.pkg.dev/colab-wheels/public/simple/\n",
            "Collecting gTTS\n",
            "  Downloading gTTS-2.3.0-py3-none-any.whl (26 kB)\n",
            "Collecting six~=1.16.0\n",
            "  Downloading six-1.16.0-py2.py3-none-any.whl (11 kB)\n",
            "Collecting click~=8.1.3\n",
            "  Downloading click-8.1.3-py3-none-any.whl (96 kB)\n",
            "\u001b[K     |████████████████████████████████| 96 kB 4.4 MB/s \n",
            "\u001b[?25hCollecting requests~=2.28.0\n",
            "  Downloading requests-2.28.1-py3-none-any.whl (62 kB)\n",
            "\u001b[K     |████████████████████████████████| 62 kB 1.3 MB/s \n",
            "\u001b[?25hRequirement already satisfied: certifi>=2017.4.17 in /usr/local/lib/python3.8/dist-packages (from requests~=2.28.0->gTTS) (2022.9.24)\n",
            "Requirement already satisfied: charset-normalizer<3,>=2 in /usr/local/lib/python3.8/dist-packages (from requests~=2.28.0->gTTS) (2.1.1)\n",
            "Requirement already satisfied: urllib3<1.27,>=1.21.1 in /usr/local/lib/python3.8/dist-packages (from requests~=2.28.0->gTTS) (1.24.3)\n",
            "Requirement already satisfied: idna<4,>=2.5 in /usr/local/lib/python3.8/dist-packages (from requests~=2.28.0->gTTS) (2.10)\n",
            "Installing collected packages: six, requests, click, gTTS\n",
            "  Attempting uninstall: six\n",
            "    Found existing installation: six 1.15.0\n",
            "    Uninstalling six-1.15.0:\n",
            "      Successfully uninstalled six-1.15.0\n",
            "  Attempting uninstall: requests\n",
            "    Found existing installation: requests 2.23.0\n",
            "    Uninstalling requests-2.23.0:\n",
            "      Successfully uninstalled requests-2.23.0\n",
            "  Attempting uninstall: click\n",
            "    Found existing installation: click 7.1.2\n",
            "    Uninstalling click-7.1.2:\n",
            "      Successfully uninstalled click-7.1.2\n",
            "\u001b[31mERROR: pip's dependency resolver does not currently take into account all the packages that are installed. This behaviour is the source of the following dependency conflicts.\n",
            "ipython 7.9.0 requires jedi>=0.10, which is not installed.\n",
            "flask 1.1.4 requires click<8.0,>=5.1, but you have click 8.1.3 which is incompatible.\u001b[0m\n",
            "Successfully installed click-8.1.3 gTTS-2.3.0 requests-2.28.1 six-1.16.0\n"
          ]
        },
        {
          "output_type": "display_data",
          "data": {
            "application/vnd.colab-display-data+json": {
              "pip_warning": {
                "packages": [
                  "six"
                ]
              }
            }
          },
          "metadata": {}
        },
        {
          "output_type": "stream",
          "name": "stdout",
          "text": [
            "Looking in indexes: https://pypi.org/simple, https://us-python.pkg.dev/colab-wheels/public/simple/\n",
            "Collecting pydub\n",
            "  Downloading pydub-0.25.1-py2.py3-none-any.whl (32 kB)\n",
            "Installing collected packages: pydub\n",
            "Successfully installed pydub-0.25.1\n",
            "Looking in indexes: https://pypi.org/simple, https://us-python.pkg.dev/colab-wheels/public/simple/\n",
            "Requirement already satisfied: pandas in /usr/local/lib/python3.8/dist-packages (1.3.5)\n",
            "Requirement already satisfied: python-dateutil>=2.7.3 in /usr/local/lib/python3.8/dist-packages (from pandas) (2.8.2)\n",
            "Requirement already satisfied: pytz>=2017.3 in /usr/local/lib/python3.8/dist-packages (from pandas) (2022.6)\n",
            "Requirement already satisfied: numpy>=1.17.3 in /usr/local/lib/python3.8/dist-packages (from pandas) (1.21.6)\n",
            "Requirement already satisfied: six>=1.5 in /usr/local/lib/python3.8/dist-packages (from python-dateutil>=2.7.3->pandas) (1.16.0)\n",
            "Looking in indexes: https://pypi.org/simple, https://us-python.pkg.dev/colab-wheels/public/simple/\n",
            "Requirement already satisfied: moviepy in /usr/local/lib/python3.8/dist-packages (0.2.3.5)\n",
            "Requirement already satisfied: tqdm<5.0,>=4.11.2 in /usr/local/lib/python3.8/dist-packages (from moviepy) (4.64.1)\n",
            "Requirement already satisfied: numpy in /usr/local/lib/python3.8/dist-packages (from moviepy) (1.21.6)\n",
            "Requirement already satisfied: imageio<3.0,>=2.1.2 in /usr/local/lib/python3.8/dist-packages (from moviepy) (2.9.0)\n",
            "Requirement already satisfied: decorator<5.0,>=4.0.2 in /usr/local/lib/python3.8/dist-packages (from moviepy) (4.4.2)\n",
            "Requirement already satisfied: pillow in /usr/local/lib/python3.8/dist-packages (from imageio<3.0,>=2.1.2->moviepy) (7.1.2)\n",
            "Looking in indexes: https://pypi.org/simple, https://us-python.pkg.dev/colab-wheels/public/simple/\n",
            "Requirement already satisfied: Pillow in /usr/local/lib/python3.8/dist-packages (7.1.2)\n",
            "Looking in indexes: https://pypi.org/simple, https://us-python.pkg.dev/colab-wheels/public/simple/\n",
            "Collecting imageio==2.4.1\n",
            "  Downloading imageio-2.4.1.tar.gz (3.3 MB)\n",
            "\u001b[K     |████████████████████████████████| 3.3 MB 7.3 MB/s \n",
            "\u001b[?25hRequirement already satisfied: numpy in /usr/local/lib/python3.8/dist-packages (from imageio==2.4.1) (1.21.6)\n",
            "Requirement already satisfied: pillow in /usr/local/lib/python3.8/dist-packages (from imageio==2.4.1) (7.1.2)\n",
            "Building wheels for collected packages: imageio\n",
            "  Building wheel for imageio (setup.py) ... \u001b[?25l\u001b[?25hdone\n",
            "  Created wheel for imageio: filename=imageio-2.4.1-py3-none-any.whl size=3303886 sha256=24e51b4acf9c05127cf31c602db2f5e4e467dbb42ae166aace78a80e6846c824\n",
            "  Stored in directory: /root/.cache/pip/wheels/be/7b/04/4d8d56f1d503e5c404f0de6018c0cfa592c71588a39b49e002\n",
            "Successfully built imageio\n",
            "Installing collected packages: imageio\n",
            "  Attempting uninstall: imageio\n",
            "    Found existing installation: imageio 2.9.0\n",
            "    Uninstalling imageio-2.9.0:\n",
            "      Successfully uninstalled imageio-2.9.0\n",
            "Successfully installed imageio-2.4.1\n",
            "Looking in indexes: https://pypi.org/simple, https://us-python.pkg.dev/colab-wheels/public/simple/\n",
            "Collecting imageio-ffmpeg\n",
            "  Downloading imageio_ffmpeg-0.4.7-py3-none-manylinux2010_x86_64.whl (26.9 MB)\n",
            "\u001b[K     |████████████████████████████████| 26.9 MB 1.4 MB/s \n",
            "\u001b[?25hInstalling collected packages: imageio-ffmpeg\n",
            "Successfully installed imageio-ffmpeg-0.4.7\n"
          ]
        }
      ]
    },
    {
      "cell_type": "code",
      "source": [
        "# Creating temporary folders\n",
        "!mkdir img\n",
        "!mkdir temp\n",
        "!mkdir mp3\n",
        "!mkdir font\n",
        "!mkdir video"
      ],
      "metadata": {
        "id": "O-oqFUEuEwvP"
      },
      "execution_count": 2,
      "outputs": []
    },
    {
      "cell_type": "code",
      "source": [
        "# Importing Libraries\n",
        "from gtts import gTTS\n",
        "from pydub import AudioSegment\n",
        "import pandas as pd\n",
        "from moviepy.editor import AudioFileClip, ImageClip, VideoClip\n",
        "from PIL import Image, ImageDraw, ImageFont"
      ],
      "metadata": {
        "id": "sgMCYMWFVg_E",
        "colab": {
          "base_uri": "https://localhost:8080/"
        },
        "outputId": "e9b8a6f1-78bf-43db-edd6-cf2fc70f596e"
      },
      "execution_count": 3,
      "outputs": [
        {
          "output_type": "stream",
          "name": "stdout",
          "text": [
            "Imageio: 'ffmpeg-linux64-v3.3.1' was not found on your computer; downloading it now.\n",
            "Try 1. Download from https://github.com/imageio/imageio-binaries/raw/master/ffmpeg/ffmpeg-linux64-v3.3.1 (43.8 MB)\n",
            "Downloading: 8192/45929032 bytes (0.0%)\b\b\b\b\b\b\b\b\b\b\b\b\b\b\b\b\b\b\b\b\b\b\b\b\b\b2916352/45929032 bytes (6.3%)\b\b\b\b\b\b\b\b\b\b\b\b\b\b\b\b\b\b\b\b\b\b\b\b\b\b\b\b\b6643712/45929032 bytes (14.5%)\b\b\b\b\b\b\b\b\b\b\b\b\b\b\b\b\b\b\b\b\b\b\b\b\b\b\b\b\b\b10272768/45929032 bytes (22.4%)\b\b\b\b\b\b\b\b\b\b\b\b\b\b\b\b\b\b\b\b\b\b\b\b\b\b\b\b\b\b\b13910016/45929032 bytes (30.3%)\b\b\b\b\b\b\b\b\b\b\b\b\b\b\b\b\b\b\b\b\b\b\b\b\b\b\b\b\b\b\b17498112/45929032 bytes (38.1%)\b\b\b\b\b\b\b\b\b\b\b\b\b\b\b\b\b\b\b\b\b\b\b\b\b\b\b\b\b\b\b20979712/45929032 bytes (45.7%)\b\b\b\b\b\b\b\b\b\b\b\b\b\b\b\b\b\b\b\b\b\b\b\b\b\b\b\b\b\b\b24436736/45929032 bytes (53.2%)\b\b\b\b\b\b\b\b\b\b\b\b\b\b\b\b\b\b\b\b\b\b\b\b\b\b\b\b\b\b\b27992064/45929032 bytes (60.9%)\b\b\b\b\b\b\b\b\b\b\b\b\b\b\b\b\b\b\b\b\b\b\b\b\b\b\b\b\b\b\b31686656/45929032 bytes (69.0%)\b\b\b\b\b\b\b\b\b\b\b\b\b\b\b\b\b\b\b\b\b\b\b\b\b\b\b\b\b\b\b35454976/45929032 bytes (77.2%)\b\b\b\b\b\b\b\b\b\b\b\b\b\b\b\b\b\b\b\b\b\b\b\b\b\b\b\b\b\b\b39149568/45929032 bytes (85.2%)\b\b\b\b\b\b\b\b\b\b\b\b\b\b\b\b\b\b\b\b\b\b\b\b\b\b\b\b\b\b\b42876928/45929032 bytes (93.4%)\b\b\b\b\b\b\b\b\b\b\b\b\b\b\b\b\b\b\b\b\b\b\b\b\b\b\b\b\b\b\b45929032/45929032 bytes (100.0%)\n",
            "  Done\n",
            "File saved as /root/.imageio/ffmpeg/ffmpeg-linux64-v3.3.1.\n"
          ]
        }
      ]
    },
    {
      "cell_type": "markdown",
      "source": [
        "## Extracting Phrases"
      ],
      "metadata": {
        "id": "8yNl5sf1GU3Z"
      }
    },
    {
      "cell_type": "code",
      "source": [
        "# Loading csv into pandas dataframe\n",
        "df = pd.read_csv('/content/phrases.csv')\n",
        "\n",
        "# Creating Korean and English text list from datafram\n",
        "input_text = df['Korean'].tolist()\n",
        "input_translation = df['English'].tolist()\n",
        "\n",
        "# Setting Language for TTS\n",
        "language = 'ko' # zh = Chinese, en = English, ko = Korean"
      ],
      "metadata": {
        "id": "B786xg054DBy"
      },
      "execution_count": 4,
      "outputs": []
    },
    {
      "cell_type": "markdown",
      "source": [
        "## Generating TTS Audio Files and Combining"
      ],
      "metadata": {
        "id": "e-ZlsGwEGbvW"
      }
    },
    {
      "cell_type": "markdown",
      "source": [
        "Audio Files in Korean normal speed, Korean slow speed, and English. Combines 3 files into single mp3 file"
      ],
      "metadata": {
        "id": "52Dt9q_wGzMz"
      }
    },
    {
      "cell_type": "code",
      "execution_count": 5,
      "metadata": {
        "id": "NGmp8rAaVVxb"
      },
      "outputs": [],
      "source": [
        "# Generating Korean and English TTS Audio and combining them into an mp3 file\n",
        "def generateAudio(): \n",
        "    for i in range(len(input_text)):\n",
        "\n",
        "        file_name = input_text[i]\n",
        "\n",
        "        normal = gTTS(text = input_text[i], lang=language, slow=False)\n",
        "        audio_normal = f'/content/temp/{file_name}_normal.mp3'\n",
        "        normal.save(audio_normal)\n",
        "\n",
        "        slow = gTTS(text = input_text[i], lang=language, slow=True)\n",
        "        audio_slow = f'/content/temp/{file_name}_slow.mp3'\n",
        "        slow.save(audio_slow)\n",
        "\n",
        "        english = gTTS(text = input_translation[i], lang='en', slow=False)\n",
        "        audio_english = f'/content/temp/{file_name}_english.mp3'\n",
        "        english.save(audio_english)\n",
        "\n",
        "        playlist_songs = [AudioSegment.from_mp3(audio_normal), AudioSegment.silent(duration=1000), AudioSegment.from_mp3(audio_slow), AudioSegment.silent(duration=1000), AudioSegment.from_mp3(audio_english),AudioSegment.silent(duration=1000)]\n",
        "        combined = AudioSegment.empty()\n",
        "        for song in playlist_songs:\n",
        "            combined += song\n",
        "        combined.export(f'/content/mp3/{file_name}.mp3', format=\"mp3\")\n",
        "        \n",
        "generateAudio()"
      ]
    },
    {
      "cell_type": "markdown",
      "source": [
        "## Generating Images"
      ],
      "metadata": {
        "id": "ycn_pE2sGexA"
      }
    },
    {
      "cell_type": "markdown",
      "source": [
        "Generating images with Korean and English text"
      ],
      "metadata": {
        "id": "l63RGqmsHWZP"
      }
    },
    {
      "cell_type": "code",
      "source": [
        "def genImage():\n",
        "    width = 1080\n",
        "    height = 1080\n",
        "    font = ImageFont.truetype(\"/content/font/NotoSerifKR-Regular.otf\", size=50)\n",
        "    i = 0\n",
        "    for line in input_text:\n",
        "        file_name = input_text[i]\n",
        "        message = input_text[i] + \"\\n\" + input_translation[i]\n",
        "        i += 1\n",
        "        img = Image.new('RGB', (width, height), color='#FFDDD2')\n",
        "        imgDraw = ImageDraw.Draw(img)\n",
        "\n",
        "        textWidth, textHeight = imgDraw.textsize(message, font=font)\n",
        "        xText = (width - textWidth) / 2\n",
        "        yText = (height - textHeight) / 2\n",
        "\n",
        "        imgDraw.text((xText, yText), message, font=font, fill=(89, 69, 69))\n",
        "        img.save(f'/content/img/{file_name}.png')\n",
        "genImage()"
      ],
      "metadata": {
        "id": "Y86ULcE2VcC1"
      },
      "execution_count": 9,
      "outputs": []
    },
    {
      "cell_type": "markdown",
      "source": [
        "## Combines images and audio to generate video"
      ],
      "metadata": {
        "id": "xSoVz-hLH139"
      }
    },
    {
      "cell_type": "code",
      "source": [
        "def mp3PNGMerge():\n",
        "\n",
        "  for i in range(len(input_text)):\n",
        "    file_name = input_text[i]\n",
        "    audio_clip = AudioFileClip(f\"/content/mp3/{file_name}.mp3\")\n",
        "    image_clip = ImageClip(f\"/content/img/{file_name}.png\")\n",
        "    video_clip = image_clip.set_audio(audio_clip)\n",
        "    video_clip.duration = audio_clip.duration\n",
        "    video_clip.fps = 30\n",
        "    video_clip.write_videofile(f'/content/video/{file_name}.mp4')\n",
        "\n",
        "mp3PNGMerge()"
      ],
      "metadata": {
        "colab": {
          "base_uri": "https://localhost:8080/"
        },
        "id": "ZLY7ozL4LW07",
        "outputId": "4fdecbb0-5d94-4040-8135-5c1294c37c7a"
      },
      "execution_count": 10,
      "outputs": [
        {
          "output_type": "stream",
          "name": "stdout",
          "text": [
            "[MoviePy] >>>> Building video /content/video/영어하세요?.mp4\n",
            "[MoviePy] Writing audio in 영어하세요?TEMP_MPY_wvf_snd.mp3\n"
          ]
        },
        {
          "output_type": "stream",
          "name": "stderr",
          "text": [
            "100%|██████████| 165/165 [00:00<00:00, 1147.92it/s]"
          ]
        },
        {
          "output_type": "stream",
          "name": "stdout",
          "text": [
            "[MoviePy] Done.\n",
            "[MoviePy] Writing video /content/video/영어하세요?.mp4\n"
          ]
        },
        {
          "output_type": "stream",
          "name": "stderr",
          "text": [
            "\n",
            "100%|██████████| 224/224 [00:03<00:00, 61.65it/s]\n"
          ]
        },
        {
          "output_type": "stream",
          "name": "stdout",
          "text": [
            "[MoviePy] Done.\n",
            "[MoviePy] >>>> Video ready: /content/video/영어하세요?.mp4 \n",
            "\n",
            "[MoviePy] >>>> Building video /content/video/깎아주세요..mp4\n",
            "[MoviePy] Writing audio in 깎아주세요.TEMP_MPY_wvf_snd.mp3\n"
          ]
        },
        {
          "output_type": "stream",
          "name": "stderr",
          "text": [
            "100%|██████████| 168/168 [00:00<00:00, 911.23it/s]"
          ]
        },
        {
          "output_type": "stream",
          "name": "stdout",
          "text": [
            "[MoviePy] Done.\n",
            "[MoviePy] Writing video /content/video/깎아주세요..mp4\n"
          ]
        },
        {
          "output_type": "stream",
          "name": "stderr",
          "text": [
            "\n",
            "100%|██████████| 228/228 [00:03<00:00, 70.77it/s]\n"
          ]
        },
        {
          "output_type": "stream",
          "name": "stdout",
          "text": [
            "[MoviePy] Done.\n",
            "[MoviePy] >>>> Video ready: /content/video/깎아주세요..mp4 \n",
            "\n"
          ]
        }
      ]
    }
  ]
}