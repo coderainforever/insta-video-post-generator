{
  "nbformat": 4,
  "nbformat_minor": 0,
  "metadata": {
    "colab": {
      "provenance": []
    },
    "kernelspec": {
      "name": "python3",
      "display_name": "Python 3"
    },
    "language_info": {
      "name": "python"
    }
  },
  "cells": [
    {
      "cell_type": "code",
      "execution_count": null,
      "metadata": {
        "id": "UVUhmAQBNh5o"
      },
      "outputs": [],
      "source": [
        "# Installing dependencies\n",
        "!pip install gTTS\n",
        "!pip install pydub\n",
        "!pip install pandas\n",
        "!pip install moviepy\n",
        "!pip install Pillow\n",
        "!pip install imageio==2.4.1\n",
        "!pip install --upgrade imageio-ffmpeg"
      ]
    },
    {
      "cell_type": "code",
      "source": [
        "# Importing Libraries\n",
        "from gtts import gTTS\n",
        "from pydub import AudioSegment\n",
        "import pandas as pd\n",
        "from moviepy.editor import AudioFileClip, ImageClip, VideoClip, VideoFileClip, ImageFileClip\n",
        "from PIL import Image, ImageDraw, ImageFont"
      ],
      "metadata": {
        "id": "bOYxKF5QNts-"
      },
      "execution_count": null,
      "outputs": []
    },
    {
      "cell_type": "code",
      "source": [
        "# Loading csv into pandas dataframe\n",
        "df = pd.read_csv('/content/phrases.csv')\n",
        "\n",
        "# Creating Korean and English text list from datafram\n",
        "input_text = df['Korean'].tolist()\n",
        "input_translation = df['English'].tolist()\n",
        "\n",
        "# Setting Language for TTS\n",
        "language = 'ko' # zh = Chinese, en = English, ko = Korean"
      ],
      "metadata": {
        "id": "JuXusAwgNwvd"
      },
      "execution_count": null,
      "outputs": []
    },
    {
      "cell_type": "code",
      "source": [
        "# Generating Korean and English TTS Audio and combining them into an mp3 file\n",
        "def generateAudio(itext, itranslation): \n",
        "    for i in range(len(input_text)):\n",
        "\n",
        "        file_name = itext[i]\n",
        "\n",
        "        normal = gTTS(text = itext[i], lang=language, slow=False)\n",
        "        audio_normal = f'/content/temp/{file_name}_normal.mp3'\n",
        "        normal.save(audio_normal)\n",
        "\n",
        "        slow = gTTS(text = itext[i], lang=language, slow=True)\n",
        "        audio_slow = f'/content/temp/{file_name}_slow.mp3'\n",
        "        slow.save(audio_slow)\n",
        "\n",
        "        english = gTTS(text = itranslation[i], lang='en', slow=False)\n",
        "        audio_english = f'/content/temp/{file_name}_english.mp3'\n",
        "        english.save(audio_english)\n",
        "\n",
        "        playlist_songs = [AudioSegment.from_mp3(audio_normal), AudioSegment.silent(duration=1000), AudioSegment.from_mp3(audio_slow), AudioSegment.silent(duration=1000), AudioSegment.from_mp3(audio_english)]\n",
        "\n",
        "        combined = AudioSegment.empty()\n",
        "        for song in playlist_songs:\n",
        "            combined += song\n",
        "        combined.export(f'/content/mp3/{file_name}.mp3', format=\"mp3\")\n",
        "\n",
        "generateAudio(input_text, input_translation)"
      ],
      "metadata": {
        "id": "Z-wJVhGmN2Vf"
      },
      "execution_count": null,
      "outputs": []
    },
    {
      "cell_type": "code",
      "source": [
        "# Generating posters - pick your font and colors\n",
        "\n",
        "def genImage(input_text):\n",
        "    width = 512\n",
        "    height = 512\n",
        "    font = ImageFont.truetype(\"/content/NotoSerifKR-Regular.otf\", size=30)\n",
        "    i = 0\n",
        "    for line in input_text:\n",
        "        file_name = input_text[i]\n",
        "        message = input_text[i] + \"\\n\" + input_translation[i]\n",
        "        i += 1\n",
        "        img = Image.new('RGB', (width, height), color='#9599DF')\n",
        "        imgDraw = ImageDraw.Draw(img)\n",
        "\n",
        "        textWidth, textHeight = imgDraw.textsize(message, font=font)\n",
        "        xText = (width - textWidth) / 2\n",
        "        yText = (height - textHeight) / 2\n",
        "\n",
        "        imgDraw.text((xText, yText), message, font=font, fill=(241, 242, 228))\n",
        "        img.save(f'/content/img/{file_name}.png')\n",
        "\n",
        "genImage(input_text)"
      ],
      "metadata": {
        "id": "4l0ZuKvoN5s_"
      },
      "execution_count": null,
      "outputs": []
    },
    {
      "cell_type": "code",
      "source": [
        "# merging images and audios to generate videos\n",
        "\n",
        "def mp3PNGMerge():\n",
        "\n",
        "  for i in range(len(input_text)):\n",
        "    file_name = input_text[i]\n",
        "    audio_clip = AudioFileClip(f\"/content/mp3/{file_name}.mp3\")\n",
        "    image_clip = ImageClip(f\"/content/img/{file_name}.png\")\n",
        "    video_clip = image_clip.set_audio(audio_clip)\n",
        "    video_clip.duration = audio_clip.duration\n",
        "    video_clip.fps = 1\n",
        "    video_clip.write_videofile(f'/content/{file_name}.mp4')\n",
        "\n",
        "mp3PNGMerge()"
      ],
      "metadata": {
        "id": "W-1WbntpN9rD"
      },
      "execution_count": null,
      "outputs": []
    }
  ]
}